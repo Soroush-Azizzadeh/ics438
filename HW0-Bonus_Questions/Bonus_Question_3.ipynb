{
 "cells": [
  {
   "cell_type": "markdown",
   "id": "d6a1eded",
   "metadata": {},
   "source": [
    "## Importing the necessary libraries"
   ]
  },
  {
   "cell_type": "code",
   "execution_count": 1,
   "id": "d86142a7",
   "metadata": {},
   "outputs": [],
   "source": [
    "import os\n",
    "from datetime import datetime\n",
    "\n",
    "import pyarrow.dataset as ds\n",
    "\n",
    "import pyarrow.compute as pc\n",
    "import pyarrow.parquet as pq"
   ]
  },
  {
   "cell_type": "markdown",
   "id": "6c6b99b0",
   "metadata": {},
   "source": [
    "## Configuration of AWS to get access to the dataset"
   ]
  },
  {
   "cell_type": "code",
   "execution_count": 13,
   "id": "e9c4ac1c",
   "metadata": {},
   "outputs": [],
   "source": [
    "### Installing the ASW command line interface\n",
    "#pip install awscli"
   ]
  },
  {
   "cell_type": "code",
   "execution_count": 2,
   "id": "ff1997d1",
   "metadata": {},
   "outputs": [
    {
     "name": "stdout",
     "output_type": "stream",
     "text": [
      "      Name                    Value             Type    Location\n",
      "      ----                    -----             ----    --------\n",
      "   profile                <not set>             None    None\n",
      "access_key     ****************ATZI shared-credentials-file    \n",
      "secret_key     ****************e3kB shared-credentials-file    \n",
      "    region                us-west-1      config-file    ~/.aws/config\n"
     ]
    }
   ],
   "source": [
    "### indicating the ini file fot AWS configuration (The ini file has already been uploaded manually.)\n",
    "!set AWS_SHARED_CREDENTIALS_FILE=awscli.ini\n",
    "path = \"awscli.ini\"\n",
    "os.environ['AWS_SHARED_CREDENTIALS_FILE'] = path\n",
    "\n",
    "### Checking the configuration to make sure all good!\n",
    "!aws configure list"
   ]
  },
  {
   "cell_type": "markdown",
   "id": "ef801631",
   "metadata": {},
   "source": [
    "## Loading the dataset"
   ]
  },
  {
   "cell_type": "code",
   "execution_count": 3,
   "id": "d4952291",
   "metadata": {},
   "outputs": [
    {
     "name": "stdout",
     "output_type": "stream",
     "text": [
      "CPU times: total: 375 ms\n",
      "Wall time: 5.32 s\n"
     ]
    }
   ],
   "source": [
    "%%time\n",
    "\n",
    "dataset = ds.dataset(\"s3://ursa-labs-taxi-data/\", partitioning=[\"year\", \"month\"])"
   ]
  },
  {
   "cell_type": "markdown",
   "id": "1a387d03",
   "metadata": {},
   "source": [
    "## Questions"
   ]
  },
  {
   "cell_type": "markdown",
   "id": "d0b53257",
   "metadata": {},
   "source": [
    "### 3. Which time (hour) of the day has the highest tip?"
   ]
  },
  {
   "cell_type": "code",
   "execution_count": 4,
   "id": "b23e495e",
   "metadata": {},
   "outputs": [
    {
     "name": "stdout",
     "output_type": "stream",
     "text": [
      "Hour 0: 1.432907006747444\n",
      "Hour 1: 1.3652687854440366\n",
      "Hour 2: 1.2802249481451455\n",
      "Hour 3: 1.2390465738022327\n",
      "Hour 4: 1.2722558943116409\n",
      "Hour 5: 1.554707271017764\n",
      "Hour 6: 1.347670535721485\n",
      "Hour 7: 1.2530356272411751\n",
      "Hour 8: 1.302820257153362\n",
      "Hour 9: 1.3345102695842688\n",
      "Hour 10: 1.260719438757078\n",
      "Hour 11: 1.2291265633062165\n",
      "Hour 12: 1.22455353190345\n",
      "Hour 13: 1.230690982703977\n",
      "Hour 14: 1.2538146552447396\n",
      "Hour 15: 1.2798352445067427\n",
      "Hour 16: 1.3657668892470693\n",
      "Hour 17: 1.3445425991978914\n",
      "Hour 18: 1.3402874965509548\n",
      "Hour 19: 1.3648568126605471\n",
      "Hour 20: 1.344923418332552\n",
      "Hour 21: 1.3923077793321619\n",
      "Hour 22: 1.4236391297986528\n",
      "Hour 23: 1.4367369366755929\n",
      "The Hour with the highest tip is 5\n",
      "CPU times: total: 58min 1s\n",
      "Wall time: 1h 30min 46s\n"
     ]
    }
   ],
   "source": [
    "%%time\n",
    "tips_count = [0 for _ in range(24)]\n",
    "tips_amount = [0 for _ in range(24)]\n",
    "\n",
    "for fragment in dataset.get_fragments():\n",
    "    table = fragment.to_table(columns=['dropoff_at', 'tip_amount'])\n",
    "\n",
    "    table_row_size = table.to_batches()[0].num_rows\n",
    "    sorted_indices = pc.sort_indices(table, sort_keys=[(\"dropoff_at\", \"ascending\")])\n",
    "    sorted_table = table.take(sorted_indices)\n",
    "\n",
    "    pq.write_table(sorted_table, 'optimized_parquet_file.parquet', row_group_size=table_row_size)\n",
    "\n",
    "    optimized_parquet_file = pq.ParquetFile('optimized_parquet_file.parquet')\n",
    "    dropoff_at_col_idx = 0\n",
    "    for i in range(optimized_parquet_file.num_row_groups):\n",
    "        dropoff_at = optimized_parquet_file.read_row_group(i)['dropoff_at']\n",
    "        tip_amount = optimized_parquet_file.read_row_group(i)['tip_amount']\n",
    "\n",
    "        for j in range(len(dropoff_at)):\n",
    "\n",
    "            hour = dropoff_at[j].as_py().hour\n",
    "            tips_amount[hour] += tip_amount[j].as_py()\n",
    "            tips_count[hour] += 1\n",
    "\n",
    "average_hourly_tips = []\n",
    "for i in range(24):\n",
    "    average_hourly_tip = tips_amount[i] / tips_count[i]\n",
    "    print(f'Hour {i}: {average_hourly_tip}')\n",
    "    average_hourly_tips.append(average_hourly_tip)\n",
    "\n",
    "print(f'The Hour with the highest tip is {average_hourly_tips.index(max(average_hourly_tips))}')"
   ]
  }
 ],
 "metadata": {
  "kernelspec": {
   "display_name": "Python 3 (ipykernel)",
   "language": "python",
   "name": "python3"
  },
  "language_info": {
   "codemirror_mode": {
    "name": "ipython",
    "version": 3
   },
   "file_extension": ".py",
   "mimetype": "text/x-python",
   "name": "python",
   "nbconvert_exporter": "python",
   "pygments_lexer": "ipython3",
   "version": "3.10.7"
  }
 },
 "nbformat": 4,
 "nbformat_minor": 5
}
