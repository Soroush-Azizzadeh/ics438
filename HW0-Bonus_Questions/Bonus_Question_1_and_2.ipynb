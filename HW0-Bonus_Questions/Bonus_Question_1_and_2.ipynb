{
 "cells": [
  {
   "cell_type": "markdown",
   "metadata": {
    "id": "p5q0g6e58bz9"
   },
   "source": [
    "## Importing the necessary libraries"
   ]
  },
  {
   "cell_type": "code",
   "execution_count": 4,
   "metadata": {
    "executionInfo": {
     "elapsed": 168,
     "status": "ok",
     "timestamp": 1695269682066,
     "user": {
      "displayName": "Soroush Azizzadeh",
      "userId": "00786215056923967670"
     },
     "user_tz": 600
    },
    "id": "sYx6L65-8fUG"
   },
   "outputs": [],
   "source": [
    "import os\n",
    "from datetime import datetime\n",
    "\n",
    "import pyarrow.dataset as ds\n",
    "\n",
    "import pyarrow.compute as pc\n",
    "import pyarrow.parquet as pq"
   ]
  },
  {
   "cell_type": "markdown",
   "metadata": {
    "id": "IcxbVjmc7gcz"
   },
   "source": [
    "## Configuration of AWS to get access to the dataset"
   ]
  },
  {
   "cell_type": "code",
   "execution_count": null,
   "metadata": {
    "id": "jXiUmoPR8DeV"
   },
   "outputs": [],
   "source": [
    "### Installing the ASW command line interface\n",
    "#!pip install awscli"
   ]
  },
  {
   "cell_type": "code",
   "execution_count": 2,
   "metadata": {
    "colab": {
     "base_uri": "https://localhost:8080/"
    },
    "executionInfo": {
     "elapsed": 16947,
     "status": "ok",
     "timestamp": 1695269607291,
     "user": {
      "displayName": "Soroush Azizzadeh",
      "userId": "00786215056923967670"
     },
     "user_tz": 600
    },
    "id": "OBbng1ZW8HL7",
    "outputId": "254e6b42-5a26-4eaa-9a1a-52c264f6caa5"
   },
   "outputs": [
    {
     "name": "stdout",
     "output_type": "stream",
     "text": [
      "Mounted at /content/drive\n",
      "      Name                    Value             Type    Location\n",
      "      ----                    -----             ----    --------\n",
      "   profile                <not set>             None    None\n",
      "access_key     ****************ATZI shared-credentials-file    \n",
      "secret_key     ****************e3kB shared-credentials-file    \n",
      "    region                us-west-1      config-file    ~/.aws/config\n"
     ]
    }
   ],
   "source": [
    "### Connecting to google drive\n",
    "# from google.colab import drive\n",
    "# drive.mount('/content/drive')\n",
    "\n",
    "### indicating the ini file fot AWS configuration (The ini file has already been uploaded manually.)\n",
    "# !export AWS_SHARED_CREDENTIALS_FILE=/content/drive/MyDrive/config/awscli.ini\n",
    "# path = \"/content/drive/My Drive/config/awscli.ini\"\n",
    "# os.environ['AWS_SHARED_CREDENTIALS_FILE'] = path\n",
    "\n",
    "### Checking the configuration to make sure all good!\n",
    "# !aws configure list"
   ]
  },
  {
   "cell_type": "markdown",
   "metadata": {
    "id": "s3lBW_Z68McE"
   },
   "source": [
    "## Loading the dataset"
   ]
  },
  {
   "cell_type": "code",
   "execution_count": 5,
   "metadata": {
    "colab": {
     "base_uri": "https://localhost:8080/"
    },
    "executionInfo": {
     "elapsed": 1541,
     "status": "ok",
     "timestamp": 1695269695487,
     "user": {
      "displayName": "Soroush Azizzadeh",
      "userId": "00786215056923967670"
     },
     "user_tz": 600
    },
    "id": "D1bRzx898Oi9",
    "outputId": "b4b15b93-104f-441a-ea9c-aac289b4fea7"
   },
   "outputs": [
    {
     "name": "stdout",
     "output_type": "stream",
     "text": [
      "CPU times: user 165 ms, sys: 35.3 ms, total: 200 ms\n",
      "Wall time: 1.37 s\n"
     ]
    }
   ],
   "source": [
    "%%time\n",
    "\n",
    "dataset = ds.dataset(\"s3://ursa-labs-taxi-data/\", partitioning=[\"year\", \"month\"])"
   ]
  },
  {
   "cell_type": "markdown",
   "metadata": {
    "id": "oGYyXcAj8RI1"
   },
   "source": [
    "## Questions"
   ]
  },
  {
   "cell_type": "markdown",
   "metadata": {
    "id": "EPfyjWO88tGl"
   },
   "source": [
    "### 1. can you get the average transaction between 2:00-2:59 PM?:"
   ]
  },
  {
   "cell_type": "code",
   "execution_count": 6,
   "metadata": {
    "colab": {
     "base_uri": "https://localhost:8080/"
    },
    "executionInfo": {
     "elapsed": 5278349,
     "status": "ok",
     "timestamp": 1695275022120,
     "user": {
      "displayName": "Soroush Azizzadeh",
      "userId": "00786215056923967670"
     },
     "user_tz": 600
    },
    "id": "spKiBGwC8uxN",
    "outputId": "5f153efd-2a22-4242-c443-bd060d6a269c"
   },
   "outputs": [
    {
     "name": "stdout",
     "output_type": "stream",
     "text": [
      "The average is: 14.090892071363218\n",
      "CPU times: user 31min 56s, sys: 1min 53s, total: 33min 50s\n",
      "Wall time: 1h 27min 58s\n"
     ]
    }
   ],
   "source": [
    "%%time\n",
    "total_amount = 0\n",
    "total_count = 0\n",
    "for fragment in dataset.get_fragments():\n",
    "  table = fragment.to_table(columns=['dropoff_at', 'total_amount'])\n",
    "\n",
    "  table_row_size = table.to_batches()[0].num_rows\n",
    "  sorted_indices = pc.sort_indices(table, sort_keys=[(\"dropoff_at\", \"ascending\")])\n",
    "  sorted_table = table.take(sorted_indices)\n",
    "\n",
    "  pq.write_table(sorted_table, 'optimized_parquet_file.parquet', row_group_size=table_row_size)\n",
    "\n",
    "  optimized_parquet_file = pq.ParquetFile('optimized_parquet_file.parquet')\n",
    "  dropoff_at_col_idx = 0\n",
    "  for i in range(optimized_parquet_file.num_row_groups):\n",
    "    min_time = optimized_parquet_file.metadata.row_group(i).column(dropoff_at_col_idx).statistics.min\n",
    "    max_time = optimized_parquet_file.metadata.row_group(i).column(dropoff_at_col_idx).statistics.max\n",
    "    diff = (max_time - min_time).total_seconds()\n",
    "\n",
    "    min_hour = min_time.hour\n",
    "    max_hour = max_time.hour\n",
    "\n",
    "    if (min_hour <= 14 and max_hour >= 14) or (diff >= 86_400):\n",
    "      all_transactions = optimized_parquet_file.read_row_group(i)['total_amount']\n",
    "      dropoff_at = optimized_parquet_file.read_row_group(i)['dropoff_at']\n",
    "\n",
    "      time_checker_arr = [record.as_py().hour for record in dropoff_at]\n",
    "      desired_time = [hour==14 for hour in time_checker_arr]\n",
    "\n",
    "      desired_transactions = pc.filter(all_transactions, desired_time)\n",
    "\n",
    "      if len(desired_transactions) > 0:\n",
    "        total_amount += pc.sum(desired_transactions).as_py()\n",
    "        total_count += len(desired_transactions)\n",
    "\n",
    "print(f'The average is: {total_amount/total_count}')"
   ]
  },
  {
   "cell_type": "markdown",
   "metadata": {
    "id": "RbX9He-482rU"
   },
   "source": [
    "### 2. Which day (of week), on average has the highest tip?"
   ]
  },
  {
   "cell_type": "code",
   "execution_count": 7,
   "metadata": {
    "colab": {
     "base_uri": "https://localhost:8080/"
    },
    "executionInfo": {
     "elapsed": 5170964,
     "status": "ok",
     "timestamp": 1695280193082,
     "user": {
      "displayName": "Soroush Azizzadeh",
      "userId": "00786215056923967670"
     },
     "user_tz": 600
    },
    "id": "nzvijze185mk",
    "outputId": "7ecf91d5-b946-4994-a58b-0284b881fd54"
   },
   "outputs": [
    {
     "name": "stdout",
     "output_type": "stream",
     "text": [
      "Average Tip in Mondays: 1.3469167844979941\n",
      "Average Tip in Tuesdays: 1.3594625526716777\n",
      "Average Tip in Wednesdays: 1.3903943953032298\n",
      "Average Tip in Thursdays: 1.4014479354310914\n",
      "Average Tip in Fridays: 1.3373793122010493\n",
      "Average Tip in Saturdays: 1.1671709626702114\n",
      "Average Tip in Sundays: 1.2886291171967024\n",
      "The Day of the Week with the highest tip is Thursday\n",
      "CPU times: user 32min 37s, sys: 1min 44s, total: 34min 22s\n",
      "Wall time: 1h 26min 10s\n"
     ]
    }
   ],
   "source": [
    "%%time\n",
    "tips_count = [0 for _ in range(7)]\n",
    "tips_amount = [0 for _ in range(7)]\n",
    "\n",
    "for fragment in dataset.get_fragments():\n",
    "  table = fragment.to_table(columns=['dropoff_at', 'tip_amount'])\n",
    "\n",
    "  table_row_size = table.to_batches()[0].num_rows\n",
    "  sorted_indices = pc.sort_indices(table, sort_keys=[(\"dropoff_at\", \"ascending\")])\n",
    "  sorted_table = table.take(sorted_indices)\n",
    "\n",
    "  pq.write_table(sorted_table, 'optimized_parquet_file.parquet', row_group_size=table_row_size)\n",
    "\n",
    "  optimized_parquet_file = pq.ParquetFile('optimized_parquet_file.parquet')\n",
    "  dropoff_at_col_idx = 0\n",
    "  for i in range(optimized_parquet_file.num_row_groups):\n",
    "    min_date = optimized_parquet_file.metadata.row_group(i).column(0).statistics.min.date()\n",
    "    max_date = optimized_parquet_file.metadata.row_group(i).column(0).statistics.max.date()\n",
    "\n",
    "    if max_date == min_date:\n",
    "      min_time = optimized_parquet_file.metadata.row_group(i).column(0).statistics.min\n",
    "      day_of_week = min_time.weekday()\n",
    "      tips = optimized_parquet_file.read_row_group(i)['tip_amount']\n",
    "\n",
    "      tips_amount[day_of_week] += pc.sum(tips).as_py()\n",
    "      tips_count[day_of_week] += len(tips)\n",
    "    else:\n",
    "      dropoff_at = optimized_parquet_file.read_row_group(i)['dropoff_at']\n",
    "      tip_amount = optimized_parquet_file.read_row_group(i)['tip_amount']\n",
    "\n",
    "      for j in range(len(dropoff_at)):\n",
    "\n",
    "        day_of_week = dropoff_at[j].as_py().weekday()\n",
    "        tips_amount[day_of_week] += tip_amount[j].as_py()\n",
    "        tips_count[day_of_week] += 1\n",
    "\n",
    "average_tips = []\n",
    "actual_days_of_week = ['Monday', 'Tuesday', 'Wednesday', 'Thursday', 'Friday', 'Saturday', 'Sunday']\n",
    "for i in range(7):\n",
    "  average_tip = tips_amount[i] / tips_count[i]\n",
    "  print(f'Average Tip in {actual_days_of_week[i]}s: {average_tip}')\n",
    "  average_tips.append(average_tip)\n",
    "\n",
    "\n",
    "print(f'The Day of the Week with the highest tip is {actual_days_of_week[average_tips.index(max(average_tips))]}')"
   ]
  }
 ],
 "metadata": {
  "accelerator": "TPU",
  "colab": {
   "authorship_tag": "ABX9TyN0U0Cl2qJ67MCYMY4ogC2+",
   "collapsed_sections": [
    "p5q0g6e58bz9",
    "IcxbVjmc7gcz",
    "s3lBW_Z68McE"
   ],
   "provenance": []
  },
  "kernelspec": {
   "display_name": "Python 3 (ipykernel)",
   "language": "python",
   "name": "python3"
  },
  "language_info": {
   "codemirror_mode": {
    "name": "ipython",
    "version": 3
   },
   "file_extension": ".py",
   "mimetype": "text/x-python",
   "name": "python",
   "nbconvert_exporter": "python",
   "pygments_lexer": "ipython3",
   "version": "3.10.7"
  }
 },
 "nbformat": 4,
 "nbformat_minor": 1
}
